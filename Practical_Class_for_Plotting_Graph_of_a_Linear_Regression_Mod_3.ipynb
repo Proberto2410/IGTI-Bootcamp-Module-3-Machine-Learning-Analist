{
  "nbformat": 4,
  "nbformat_minor": 0,
  "metadata": {
    "colab": {
      "name": "Practical Class for Plotting Graph of a Linear Regression Mod 3.ipynb",
      "provenance": [],
      "collapsed_sections": []
    },
    "kernelspec": {
      "name": "python3",
      "display_name": "Python 3"
    }
  },
  "cells": [
    {
      "cell_type": "markdown",
      "metadata": {
        "id": "PV7qwyIiQnvW",
        "colab_type": "text"
      },
      "source": [
        "**Practical Class at Module 3 of the Bootcamp Machine Learning IGTI in order to plotting a Graph of a Linear Regression and checking the Quality Metrics.**"
      ]
    },
    {
      "cell_type": "code",
      "metadata": {
        "id": "yfSKpAxXQdmO",
        "colab_type": "code",
        "colab": {}
      },
      "source": [
        "#importing the libraries\n",
        "import matplotlib.pyplot as plt\n",
        "import numpy as np\n",
        "from sklearn import datasets, linear_model\n",
        "from sklearn.metrics import mean_squared_error, median_absolute_error\n",
        "from sklearn.model_selection import train_test_split\n"
      ],
      "execution_count": 18,
      "outputs": []
    },
    {
      "cell_type": "code",
      "metadata": {
        "id": "S0PleCJzWlSs",
        "colab_type": "code",
        "colab": {}
      },
      "source": [
        "#downloading the dataset\n",
        "x, y = datasets.load_diabetes(return_X_y=True)\n",
        "\n",
        "#sorting out a feature to work on\n",
        "x = x[:, np.newaxis, 2]"
      ],
      "execution_count": 3,
      "outputs": []
    },
    {
      "cell_type": "code",
      "metadata": {
        "id": "CwhH8ViUXg_q",
        "colab_type": "code",
        "colab": {}
      },
      "source": [
        "#split the dataset\n",
        "x_train, x_test, y_train, y_test = train_test_split(x, y, test_size=0.30, random_state=42)"
      ],
      "execution_count": 25,
      "outputs": []
    },
    {
      "cell_type": "code",
      "metadata": {
        "id": "SellTBZnY_Q6",
        "colab_type": "code",
        "colab": {
          "base_uri": "https://localhost:8080/",
          "height": 34
        },
        "outputId": "fe7e2753-6194-4d9a-f33a-20eae468bd29"
      },
      "source": [
        "#prepare the instances of the dataset\n",
        "regr = linear_model.LinearRegression()\n",
        "\n",
        "#training the model\n",
        "regr.fit(x_train, y_train)"
      ],
      "execution_count": 26,
      "outputs": [
        {
          "output_type": "execute_result",
          "data": {
            "text/plain": [
              "LinearRegression(copy_X=True, fit_intercept=True, n_jobs=None, normalize=False)"
            ]
          },
          "metadata": {
            "tags": []
          },
          "execution_count": 26
        }
      ]
    },
    {
      "cell_type": "code",
      "metadata": {
        "id": "oUkcKaPvZZq9",
        "colab_type": "code",
        "colab": {
          "base_uri": "https://localhost:8080/",
          "height": 34
        },
        "outputId": "b4864478-e841-4aba-fcc1-8cf0258a7e99"
      },
      "source": [
        "#checking out the trained model\n",
        "y_pred = regr.predict(x_test)\n",
        "\n",
        "#calculation the quality metrics\n",
        "print('Mean Square Error: %.2f'\n",
        "      % mean_squared_error(y_test, y_pred))\n"
      ],
      "execution_count": 30,
      "outputs": [
        {
          "output_type": "stream",
          "text": [
            "Mean Square Error: 3884.94\n"
          ],
          "name": "stdout"
        }
      ]
    },
    {
      "cell_type": "code",
      "metadata": {
        "id": "1qxvtSobasiQ",
        "colab_type": "code",
        "colab": {
          "base_uri": "https://localhost:8080/",
          "height": 34
        },
        "outputId": "5aab091c-142c-49a6-9a58-124bd713221c"
      },
      "source": [
        "print('Median Absolute Error:  %.2f'\n",
        "      % median_absolute_error(y_test, y_pred))"
      ],
      "execution_count": 33,
      "outputs": [
        {
          "output_type": "stream",
          "text": [
            "Median Absolute Error:  41.42\n"
          ],
          "name": "stdout"
        }
      ]
    },
    {
      "cell_type": "code",
      "metadata": {
        "id": "26PJ09yTbONK",
        "colab_type": "code",
        "colab": {
          "base_uri": "https://localhost:8080/",
          "height": 577
        },
        "outputId": "e35c39c9-518c-4102-e9ce-7f561f7eb593"
      },
      "source": [
        "#Plotting the Graph\n",
        "plt.figure(figsize=(14,10))\n",
        "plt.scatter(x_test, y_test, color='r')\n",
        "plt.plot(x_test, y_pred, color='b', linewidth=3)\n",
        "plt.xticks(())\n",
        "plt.yticks(())\n",
        "plt.show()\n"
      ],
      "execution_count": 29,
      "outputs": [
        {
          "output_type": "display_data",
          "data": {
            "image/png": "[encoded data removed]",
            "text/plain": [
              "<Figure size 1008x720 with 1 Axes>"
            ]
          },
          "metadata": {
            "tags": []
          }
        }
      ]
    }
  ]
}
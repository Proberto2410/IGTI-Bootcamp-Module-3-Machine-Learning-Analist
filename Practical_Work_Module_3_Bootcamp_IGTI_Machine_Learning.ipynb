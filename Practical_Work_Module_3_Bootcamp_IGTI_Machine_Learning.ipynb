{
  "nbformat": 4,
  "nbformat_minor": 0,
  "metadata": {
    "colab": {
      "name": "Practical_Work_Module_3_Bootcamp_IGTI_Machine_Learning.ipynb",
      "provenance": [],
      "collapsed_sections": []
    },
    "kernelspec": {
      "name": "python3",
      "display_name": "Python 3"
    }
  },
  "cells": [
    {
      "cell_type": "markdown",
      "metadata": {
        "id": "pb1t62m_xpNj"
      },
      "source": [
        "#Notebook refers to the Practical Work at Module 3 IGTI Bootcamp Machine Learning."
      ]
    },
    {
      "cell_type": "markdown",
      "metadata": {
        "id": "j44G10kPzd_Y"
      },
      "source": [
        "Practical Work - The IRIS dataset\n",
        "1. Class samples: 50 \n",
        "2. Dimensionality: 4\n",
        "3. Features type: Positive real numbers\n",
        "\n",
        "The IRIS data set is perhaps the most classic of the classification algorithm test sets. It divides plant samples into three different species and has, as features, the height and width of two parts of the plant: the sepal and the petals"
      ]
    },
    {
      "cell_type": "markdown",
      "metadata": {
        "id": "4JLHNHsJz4kj"
      },
      "source": [
        "The objective is to generate two models and compare them using the appropriate quality metrics and techniques to make them robust. It is necessary to consult the scikit-learn documentation to do this job.\n",
        "\n",
        "The work has as main objectives:\n",
        "1. Use two classification algorithms to solve a problem.\n",
        "2. Analyze this problem using quality metrics, comparing the solutions.\n",
        "3. Make the solution of the problem more robust with the use of cross-validation and search for hyperparameters.\n",
        "4. Building and Compare the Confusion Matrix\n"
      ]
    },
    {
      "cell_type": "code",
      "metadata": {
        "id": "GLaDx_A7wXJf",
        "outputId": "502259c3-ef43-40b8-d84c-11b4e3a43d3f",
        "colab": {
          "base_uri": "https://localhost:8080/",
          "height": 34
        }
      },
      "source": [
        "#download the dataset\n",
        "import numpy as np\n",
        "import seaborn as sns\n",
        "import matplotlib.pyplot as plt\n",
        "\n",
        "from sklearn.metrics import plot_confusion_matrix\n",
        "from sklearn import datasets\n",
        "from sklearn.decomposition import PCA\n",
        "\n",
        "iris = datasets.load_iris()\n",
        "X = iris.data[:, :2] # getting the features\n",
        "y = iris.target\n",
        "\n",
        "\n",
        "y[0] # first element class\n",
        "X[:1, :] # first element to classify\n",
        "\n"
      ],
      "execution_count": null,
      "outputs": [
        {
          "output_type": "execute_result",
          "data": {
            "text/plain": [
              "array([[5.1, 3.5]])"
            ]
          },
          "metadata": {
            "tags": []
          },
          "execution_count": 18
        }
      ]
    },
    {
      "cell_type": "markdown",
      "metadata": {
        "id": "kBzlCF0HwaWX"
      },
      "source": [
        "1. Split the dataset into training and testing.\n",
        "2. Training the Classifier and test its performance\n"
      ]
    },
    {
      "cell_type": "code",
      "metadata": {
        "id": "bGwQ8jge6N7I"
      },
      "source": [
        "from sklearn.model_selection import train_test_split\n",
        "X_train, X_test, y_train, y_test = train_test_split(X, y, test_size=0.30, random_state=42)"
      ],
      "execution_count": null,
      "outputs": []
    },
    {
      "cell_type": "markdown",
      "metadata": {
        "id": "rxSbD-Kfw-j0"
      },
      "source": [
        "**Loading and training Random Forest Classifier**"
      ]
    },
    {
      "cell_type": "code",
      "metadata": {
        "id": "HzhdGZbI6_BH"
      },
      "source": [
        "#random forest\n",
        "from sklearn.ensemble import RandomForestClassifier\n",
        "rfc = RandomForestClassifier()\n",
        "rfc.fit(X_train,y_train)\n",
        "y_pred = rfc.predict(X_test)"
      ],
      "execution_count": null,
      "outputs": []
    },
    {
      "cell_type": "code",
      "metadata": {
        "id": "--_Zf9rF7Jmc"
      },
      "source": [
        "#random forest metrics\n",
        "from sklearn.metrics import accuracy_score, recall_score, precision_score\n",
        "\n",
        "rfc_acc = round(accuracy_score(y_test, y_pred), 4)\n",
        "rfc_recall = round(recall_score(y_test, y_pred, average='weighted'), 4)\n",
        "rfc_precision = round(precision_score(y_test, y_test, y_pred, average='weighted'), 4)"
      ],
      "execution_count": null,
      "outputs": []
    },
    {
      "cell_type": "markdown",
      "metadata": {
        "id": "4eEm9HGZBACP"
      },
      "source": [
        "**Plotting the Confusion Matrix using RANDOM FOREST**"
      ]
    },
    {
      "cell_type": "code",
      "metadata": {
        "id": "XZMV2SDiA9wu",
        "outputId": "cdfa8948-c634-442e-e8a8-93ab2c490193",
        "colab": {
          "base_uri": "https://localhost:8080/",
          "height": 709
        }
      },
      "source": [
        "# Plotting RandomForest Confusion Matrix\n",
        "np.set_printoptions(precision=2)\n",
        "class_names = iris.target_names\n",
        "matrix_titles = [(\"Confusion Matrix (Random Forest) with no Normalization\", None),\n",
        "                  (\"Confusion Matrix (Random Forest) Normalized\", 'true')]\n",
        "for title, normalize in matrix_titles:\n",
        "    disp = plot_confusion_matrix(rfc, X_test, y_test,\n",
        "                                 display_labels=class_names,\n",
        "                                 cmap=plt.cm.Greens,\n",
        "                                 normalize=normalize)\n",
        "    disp.ax_.set_title(title)\n",
        "\n",
        "    print(title)\n",
        "    print(disp.confusion_matrix)\n",
        "\n",
        "plt.show()"
      ],
      "execution_count": null,
      "outputs": [
        {
          "output_type": "stream",
          "text": [
            "Confusion Matrix (Random Forest) with no Normalization\n",
            "[[19  0  0]\n",
            " [ 0  8  5]\n",
            " [ 0  5  8]]\n",
            "Confusion Matrix (Random Forest) Normalized\n",
            "[[1.   0.   0.  ]\n",
            " [0.   0.62 0.38]\n",
            " [0.   0.38 0.62]]\n"
          ],
          "name": "stdout"
        },
        {
          "output_type": "display_data",
          "data": {
            "image/png": "[encoded data removed]",
            "text/plain": [
              "<Figure size 432x288 with 2 Axes>"
            ]
          },
          "metadata": {
            "tags": [],
            "needs_background": "light"
          }
        },
        {
          "output_type": "display_data",
          "data": {
            "image/png": "[encoded data removed]",
            "text/plain": [
              "<Figure size 432x288 with 2 Axes>"
            ]
          },
          "metadata": {
            "tags": [],
            "needs_background": "light"
          }
        }
      ]
    },
    {
      "cell_type": "markdown",
      "metadata": {
        "id": "lh3S0406718E"
      },
      "source": [
        "**Loading and training KNN Classifier**"
      ]
    },
    {
      "cell_type": "code",
      "metadata": {
        "id": "ytA_9P3976ak"
      },
      "source": [
        "#knn\n",
        "from sklearn.neighbors import KNeighborsClassifier\n",
        "knn = KNeighborsClassifier(n_neighbors=3)\n",
        "knn.fit(X_train, y_train)\n",
        "y_pred = knn.predict(X_test)"
      ],
      "execution_count": null,
      "outputs": []
    },
    {
      "cell_type": "code",
      "metadata": {
        "id": "A2PKzJik8HQW"
      },
      "source": [
        "#knn metrics\n",
        "knn_acc = round(accuracy_score(y_test, y_pred), 4) \n",
        "knn_recall = round(recall_score(y_test, y_pred, average='weighted'), 4)\n",
        "knn_precision = round(precision_score(y_test, y_test, y_pred, average='weighted'), 4)"
      ],
      "execution_count": null,
      "outputs": []
    },
    {
      "cell_type": "markdown",
      "metadata": {
        "id": "F4A3mosn3UQB"
      },
      "source": [
        "**Plotting the Confusion Matrix using KNN(KNeighborsClassifier)**"
      ]
    },
    {
      "cell_type": "code",
      "metadata": {
        "id": "zCSz-sxR3TN7",
        "outputId": "a17f6e40-7f07-4120-b569-3c6555322db4",
        "colab": {
          "base_uri": "https://localhost:8080/",
          "height": 709
        }
      },
      "source": [
        "# Plotting KNN Confusion Matrix\n",
        "np.set_printoptions(precision=2)\n",
        "class_names = iris.target_names\n",
        "matrix_titles = [(\"Confusion Matrix (KNN) with no Normalization\", None),\n",
        "                  (\"Confusion Matrix (KNN) Normalized\", 'true')]\n",
        "for title, normalize in matrix_titles:\n",
        "    disp = plot_confusion_matrix(knn, X_test, y_test,\n",
        "                                 display_labels=class_names,\n",
        "                                 cmap=plt.cm.Reds,\n",
        "                                 normalize=normalize)\n",
        "    disp.ax_.set_title(title)\n",
        "\n",
        "    print(title)\n",
        "    print(disp.confusion_matrix)\n",
        "\n",
        "plt.show()"
      ],
      "execution_count": null,
      "outputs": [
        {
          "output_type": "stream",
          "text": [
            "Confusion Matrix (KNN) with no Normalization\n",
            "[[19  0  0]\n",
            " [ 0  7  6]\n",
            " [ 0  5  8]]\n",
            "Confusion Matrix (KNN) Normalized\n",
            "[[1.   0.   0.  ]\n",
            " [0.   0.54 0.46]\n",
            " [0.   0.38 0.62]]\n"
          ],
          "name": "stdout"
        },
        {
          "output_type": "display_data",
          "data": {
            "image/png": "[encoded data removed]",
            "text/plain": [
              "<Figure size 432x288 with 2 Axes>"
            ]
          },
          "metadata": {
            "tags": [],
            "needs_background": "light"
          }
        },
        {
          "output_type": "display_data",
          "data": {
            "image/png": "[encoded data removed]",
            "text/plain": [
              "<Figure size 432x288 with 2 Axes>"
            ]
          },
          "metadata": {
            "tags": [],
            "needs_background": "light"
          }
        }
      ]
    },
    {
      "cell_type": "markdown",
      "metadata": {
        "id": "KFGA_tqd-wO2"
      },
      "source": [
        "Comparing the metrics (KNN versus Random Forest)"
      ]
    },
    {
      "cell_type": "code",
      "metadata": {
        "id": "0x3YBdJe8Mu6",
        "outputId": "53dbbade-67d5-45e1-a92f-9761ba8d5807",
        "colab": {
          "base_uri": "https://localhost:8080/",
          "height": 136
        }
      },
      "source": [
        "print(\"KNN vs Random Forest\\n\")\n",
        "print(\"Classes: {0}\\n\".format(iris.target_names))\n",
        "print(\"Acccuracy: {0} vs {1}\".format(knn_acc, rfc_acc))\n",
        "print(\"Recall: {0} vs {1}\".format(knn_recall, rfc_recall))\n",
        "print(\"Precision: {0} vs {1}\".format(knn_precision, rfc_precision))"
      ],
      "execution_count": null,
      "outputs": [
        {
          "output_type": "stream",
          "text": [
            "KNN vs Random Forest\n",
            "\n",
            "Classes: ['setosa' 'versicolor' 'virginica']\n",
            "\n",
            "Acccuracy: 0.7556 vs 0.7778\n",
            "Recall: 0.7556 vs 0.7778\n",
            "Precision: 1.0 vs 1.0\n"
          ],
          "name": "stdout"
        }
      ]
    },
    {
      "cell_type": "code",
      "metadata": {
        "id": "a1hl9Y67_pyn",
        "outputId": "36981efd-ffeb-4f94-8340-0d41c69c47cc",
        "colab": {
          "base_uri": "https://localhost:8080/",
          "height": 51
        }
      },
      "source": [
        "from sklearn.model_selection import cross_val_score\n",
        "cv_rfc = cross_val_score(rfc, X, y)\n",
        "cv_knn = cross_val_score(knn, X, y)\n",
        "print(\"\\nCross Validation: {0} vs {1}\".format(cv_knn, cv_rfc))"
      ],
      "execution_count": null,
      "outputs": [
        {
          "output_type": "stream",
          "text": [
            "\n",
            "Cross Validation: [0.67 0.8  0.63 0.87 0.67] vs [0.7  0.73 0.73 0.87 0.77]\n"
          ],
          "name": "stdout"
        }
      ]
    },
    {
      "cell_type": "code",
      "metadata": {
        "id": "z_OotPleAYPh",
        "outputId": "0c826e7c-33f1-4dce-c541-2bbdeb169320",
        "colab": {
          "base_uri": "https://localhost:8080/",
          "height": 34
        }
      },
      "source": [
        "sum_cv_rfc = 0\n",
        "for cv_score in cv_rfc:\n",
        "  sum_cv_rfc += cv_score\n",
        "\n",
        "print(\"Random Forest Result: {0}\".format(sum_cv_rfc/5))\n"
      ],
      "execution_count": null,
      "outputs": [
        {
          "output_type": "stream",
          "text": [
            "Random Forest Result: 0.76\n"
          ],
          "name": "stdout"
        }
      ]
    },
    {
      "cell_type": "code",
      "metadata": {
        "id": "YfymakHQA5dZ",
        "outputId": "c4dd2a75-6ae0-4049-a4d7-2c64067ea7e8",
        "colab": {
          "base_uri": "https://localhost:8080/",
          "height": 34
        }
      },
      "source": [
        "sum_cv_knn = 0\n",
        "for cv_score in cv_knn:\n",
        "  sum_cv_knn += cv_score\n",
        "\n",
        "print(\"\\KNN Result: {0}\".format(sum_cv_knn/5))"
      ],
      "execution_count": null,
      "outputs": [
        {
          "output_type": "stream",
          "text": [
            "\\KNN Result: 0.7266666666666667\n"
          ],
          "name": "stdout"
        }
      ]
    },
    {
      "cell_type": "markdown",
      "metadata": {
        "id": "aMAtem6iBMjz"
      },
      "source": [
        "Working with Hyperparameters"
      ]
    },
    {
      "cell_type": "code",
      "metadata": {
        "id": "X-fJaVT4BYV-",
        "outputId": "7c2ced9b-0451-4994-9ad3-e2194d9b1994",
        "colab": {
          "base_uri": "https://localhost:8080/",
          "height": 34
        }
      },
      "source": [
        "# searching hyperparameters\n",
        "from sklearn.model_selection import GridSearchCV\n",
        "\n",
        "#RFC\n",
        "parameters = {'min_samples_split':(2,6)}\n",
        "rfc_hps = GridSearchCV(rfc, parameters)\n",
        "rfc_hps.fit(X, y)\n",
        "print(\"Best value for min_samples_split: {0}\".format(rfc_hps.best_params_['min_samples_split']))\n"
      ],
      "execution_count": null,
      "outputs": [
        {
          "output_type": "stream",
          "text": [
            "Best value for min_samples_split: 6\n"
          ],
          "name": "stdout"
        }
      ]
    },
    {
      "cell_type": "code",
      "metadata": {
        "id": "GaqiySVsExlW",
        "outputId": "41dc4ec2-8476-4def-8898-5dc4f39cfd2f",
        "colab": {
          "base_uri": "https://localhost:8080/",
          "height": 34
        }
      },
      "source": [
        "#KNN\n",
        "parameters = {'n_neighbors':(1,20)}\n",
        "knn_hps = GridSearchCV(knn, parameters)\n",
        "knn_hps.fit(X , y)\n",
        "knn_hps.best_params_['n_neighbors']\n",
        "print(\"Best value for n_neighbors: {0}\".format(knn_hps.best_params_['n_neighbors']))"
      ],
      "execution_count": null,
      "outputs": [
        {
          "output_type": "stream",
          "text": [
            "Best value for n_neighbors: 20\n"
          ],
          "name": "stdout"
        }
      ]
    },
    {
      "cell_type": "markdown",
      "metadata": {
        "id": "f0q7wq_IJXaK"
      },
      "source": [
        "**Notes:**\n",
        "1. Although normalization could be applied as part of preprocessing of data,  it was decided to do it when plotting the confusion matrix for each classifier. So, we can observe in the figure of plots the Confusion Matrix without normalization and with it in order to help us to have good visualization and a better interpretation for each class of elements of Iris dataset.\n",
        "\n",
        "2. Off course that evaluating a machine learning model is a fundamental in any project. However, generally speaking,  the overall accuracy can be a deceptive measure, despite of the model give to us a great results. This can actually be a big problem in machine learning. A machine learning model is trully evaluated on how it performs in the real world when applied for new datasets. "
      ]
    }
  ]
}